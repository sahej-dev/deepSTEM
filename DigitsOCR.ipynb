{
 "cells": [
  {
   "cell_type": "code",
   "execution_count": 1,
   "metadata": {},
   "outputs": [],
   "source": [
    "import tensorflow as tf\n",
    "from tensorflow import keras\n",
    "import numpy as np\n",
    "import matplotlib.pyplot as plt\n",
    "import pandas as pd\n",
    "from PIL import Image\n",
    "import cv2"
   ]
  },
  {
   "cell_type": "code",
   "execution_count": 2,
   "metadata": {},
   "outputs": [],
   "source": [
    "data = keras.datasets.mnist\n",
    "(trainX,trainY), (testX, testY) = data.load_data()"
   ]
  },
  {
   "cell_type": "code",
   "execution_count": 3,
   "metadata": {},
   "outputs": [
    {
     "data": {
      "text/plain": [
       "array([[  0,   0,   0,   0,   0,   0,   0,   0,   0,   0,   0,   0,   0,\n",
       "          0,   0,   0,   0,   0,   0,   0,   0,   0,   0,   0,   0,   0,\n",
       "          0,   0],\n",
       "       [  0,   0,   0,   0,   0,   0,   0,   0,   0,   0,   0,   0,   0,\n",
       "          0,   0,   0,   0,   0,   0,   0,   0,   0,   0,   0,   0,   0,\n",
       "          0,   0],\n",
       "       [  0,   0,   0,   0,   0,   0,   0,   0,   0,   0,   0,   0,   0,\n",
       "          0,   0,   0,   0,   0,   0,   0,   0,   0,   0,   0,   0,   0,\n",
       "          0,   0],\n",
       "       [  0,   0,   0,   0,   0,   0,   0,   0,   0,   0,   0,   0,   0,\n",
       "          0,   0,   0,   0,   0,   0,   0,   0,   0,   0,   0,   0,   0,\n",
       "          0,   0],\n",
       "       [  0,   0,   0,   0,   0,   0,   0,   0,   0,   0,   0,   0,   0,\n",
       "          0,   0,   0,   0,   0,   0,   0,   0,   0,   0,   0,   0,   0,\n",
       "          0,   0],\n",
       "       [  0,   0,   0,   0,   0,   0,   0,   0,   0,   0,   0,   0,   3,\n",
       "         18,  18,  18, 126, 136, 175,  26, 166, 255, 247, 127,   0,   0,\n",
       "          0,   0],\n",
       "       [  0,   0,   0,   0,   0,   0,   0,   0,  30,  36,  94, 154, 170,\n",
       "        253, 253, 253, 253, 253, 225, 172, 253, 242, 195,  64,   0,   0,\n",
       "          0,   0],\n",
       "       [  0,   0,   0,   0,   0,   0,   0,  49, 238, 253, 253, 253, 253,\n",
       "        253, 253, 253, 253, 251,  93,  82,  82,  56,  39,   0,   0,   0,\n",
       "          0,   0],\n",
       "       [  0,   0,   0,   0,   0,   0,   0,  18, 219, 253, 253, 253, 253,\n",
       "        253, 198, 182, 247, 241,   0,   0,   0,   0,   0,   0,   0,   0,\n",
       "          0,   0],\n",
       "       [  0,   0,   0,   0,   0,   0,   0,   0,  80, 156, 107, 253, 253,\n",
       "        205,  11,   0,  43, 154,   0,   0,   0,   0,   0,   0,   0,   0,\n",
       "          0,   0],\n",
       "       [  0,   0,   0,   0,   0,   0,   0,   0,   0,  14,   1, 154, 253,\n",
       "         90,   0,   0,   0,   0,   0,   0,   0,   0,   0,   0,   0,   0,\n",
       "          0,   0],\n",
       "       [  0,   0,   0,   0,   0,   0,   0,   0,   0,   0,   0, 139, 253,\n",
       "        190,   2,   0,   0,   0,   0,   0,   0,   0,   0,   0,   0,   0,\n",
       "          0,   0],\n",
       "       [  0,   0,   0,   0,   0,   0,   0,   0,   0,   0,   0,  11, 190,\n",
       "        253,  70,   0,   0,   0,   0,   0,   0,   0,   0,   0,   0,   0,\n",
       "          0,   0],\n",
       "       [  0,   0,   0,   0,   0,   0,   0,   0,   0,   0,   0,   0,  35,\n",
       "        241, 225, 160, 108,   1,   0,   0,   0,   0,   0,   0,   0,   0,\n",
       "          0,   0],\n",
       "       [  0,   0,   0,   0,   0,   0,   0,   0,   0,   0,   0,   0,   0,\n",
       "         81, 240, 253, 253, 119,  25,   0,   0,   0,   0,   0,   0,   0,\n",
       "          0,   0],\n",
       "       [  0,   0,   0,   0,   0,   0,   0,   0,   0,   0,   0,   0,   0,\n",
       "          0,  45, 186, 253, 253, 150,  27,   0,   0,   0,   0,   0,   0,\n",
       "          0,   0],\n",
       "       [  0,   0,   0,   0,   0,   0,   0,   0,   0,   0,   0,   0,   0,\n",
       "          0,   0,  16,  93, 252, 253, 187,   0,   0,   0,   0,   0,   0,\n",
       "          0,   0],\n",
       "       [  0,   0,   0,   0,   0,   0,   0,   0,   0,   0,   0,   0,   0,\n",
       "          0,   0,   0,   0, 249, 253, 249,  64,   0,   0,   0,   0,   0,\n",
       "          0,   0],\n",
       "       [  0,   0,   0,   0,   0,   0,   0,   0,   0,   0,   0,   0,   0,\n",
       "          0,  46, 130, 183, 253, 253, 207,   2,   0,   0,   0,   0,   0,\n",
       "          0,   0],\n",
       "       [  0,   0,   0,   0,   0,   0,   0,   0,   0,   0,   0,   0,  39,\n",
       "        148, 229, 253, 253, 253, 250, 182,   0,   0,   0,   0,   0,   0,\n",
       "          0,   0],\n",
       "       [  0,   0,   0,   0,   0,   0,   0,   0,   0,   0,  24, 114, 221,\n",
       "        253, 253, 253, 253, 201,  78,   0,   0,   0,   0,   0,   0,   0,\n",
       "          0,   0],\n",
       "       [  0,   0,   0,   0,   0,   0,   0,   0,  23,  66, 213, 253, 253,\n",
       "        253, 253, 198,  81,   2,   0,   0,   0,   0,   0,   0,   0,   0,\n",
       "          0,   0],\n",
       "       [  0,   0,   0,   0,   0,   0,  18, 171, 219, 253, 253, 253, 253,\n",
       "        195,  80,   9,   0,   0,   0,   0,   0,   0,   0,   0,   0,   0,\n",
       "          0,   0],\n",
       "       [  0,   0,   0,   0,  55, 172, 226, 253, 253, 253, 253, 244, 133,\n",
       "         11,   0,   0,   0,   0,   0,   0,   0,   0,   0,   0,   0,   0,\n",
       "          0,   0],\n",
       "       [  0,   0,   0,   0, 136, 253, 253, 253, 212, 135, 132,  16,   0,\n",
       "          0,   0,   0,   0,   0,   0,   0,   0,   0,   0,   0,   0,   0,\n",
       "          0,   0],\n",
       "       [  0,   0,   0,   0,   0,   0,   0,   0,   0,   0,   0,   0,   0,\n",
       "          0,   0,   0,   0,   0,   0,   0,   0,   0,   0,   0,   0,   0,\n",
       "          0,   0],\n",
       "       [  0,   0,   0,   0,   0,   0,   0,   0,   0,   0,   0,   0,   0,\n",
       "          0,   0,   0,   0,   0,   0,   0,   0,   0,   0,   0,   0,   0,\n",
       "          0,   0],\n",
       "       [  0,   0,   0,   0,   0,   0,   0,   0,   0,   0,   0,   0,   0,\n",
       "          0,   0,   0,   0,   0,   0,   0,   0,   0,   0,   0,   0,   0,\n",
       "          0,   0]], dtype=uint8)"
      ]
     },
     "execution_count": 3,
     "metadata": {},
     "output_type": "execute_result"
    }
   ],
   "source": [
    "trainX[0]"
   ]
  },
  {
   "cell_type": "code",
   "execution_count": 4,
   "metadata": {},
   "outputs": [],
   "source": [
    "# Scaling pixel data b/w 0 & 1\n",
    "trainX = trainX / 255.0\n",
    "testX = testX / 255.0"
   ]
  },
  {
   "cell_type": "markdown",
   "metadata": {},
   "source": [
    "## Defining the Neural Net\n",
    "#### Layers:\n",
    "- Flatten: Pasrses the $28\\times28$ matrix into a $784\\times1$ vector for passing into the input layer of $784$ neurons.\n",
    "- Dense: Defines a layer whose each neuron is connected to each neuron of the surrounding layers."
   ]
  },
  {
   "cell_type": "code",
   "execution_count": 5,
   "metadata": {},
   "outputs": [],
   "source": [
    "model = keras.Sequential([\n",
    "    keras.layers.Flatten(input_shape=(28,28)),\n",
    "    keras.layers.Dense(16, activation='sigmoid'),\n",
    "    keras.layers.Dense(10, activation='sigmoid')\n",
    "])"
   ]
  },
  {
   "cell_type": "code",
   "execution_count": 6,
   "metadata": {},
   "outputs": [],
   "source": [
    "opt = keras.optimizers.SGD(lr=3.0)"
   ]
  },
  {
   "cell_type": "code",
   "execution_count": 7,
   "metadata": {},
   "outputs": [],
   "source": [
    "model.compile(optimizer=opt, loss='sparse_categorical_crossentropy', metrics=['accuracy'])"
   ]
  },
  {
   "cell_type": "code",
   "execution_count": 15,
   "metadata": {},
   "outputs": [
    {
     "name": "stdout",
     "output_type": "stream",
     "text": [
      "Train on 60000 samples\n",
      "Epoch 1/15\n",
      "60000/60000 [==============================] - 0s 8us/sample - loss: 0.1178 - accuracy: 0.9638\n",
      "Epoch 2/15\n",
      "60000/60000 [==============================] - 0s 7us/sample - loss: 0.1187 - accuracy: 0.9629\n",
      "Epoch 3/15\n",
      "60000/60000 [==============================] - 0s 7us/sample - loss: 0.1149 - accuracy: 0.9643\n",
      "Epoch 4/15\n",
      "60000/60000 [==============================] - 0s 8us/sample - loss: 0.1150 - accuracy: 0.9655\n",
      "Epoch 5/15\n",
      "60000/60000 [==============================] - 0s 7us/sample - loss: 0.1137 - accuracy: 0.9652\n",
      "Epoch 6/15\n",
      "60000/60000 [==============================] - 0s 7us/sample - loss: 0.1148 - accuracy: 0.9639\n",
      "Epoch 7/15\n",
      "60000/60000 [==============================] - 0s 7us/sample - loss: 0.1113 - accuracy: 0.9661\n",
      "Epoch 8/15\n",
      "60000/60000 [==============================] - 0s 7us/sample - loss: 0.1125 - accuracy: 0.9650\n",
      "Epoch 9/15\n",
      "60000/60000 [==============================] - 0s 8us/sample - loss: 0.1103 - accuracy: 0.9663\n",
      "Epoch 10/15\n",
      "60000/60000 [==============================] - 0s 8us/sample - loss: 0.1111 - accuracy: 0.9663\n",
      "Epoch 11/15\n",
      "60000/60000 [==============================] - 0s 8us/sample - loss: 0.1103 - accuracy: 0.9661\n",
      "Epoch 12/15\n",
      "60000/60000 [==============================] - 0s 8us/sample - loss: 0.1083 - accuracy: 0.9669\n",
      "Epoch 13/15\n",
      "60000/60000 [==============================] - 0s 7us/sample - loss: 0.1083 - accuracy: 0.9669\n",
      "Epoch 14/15\n",
      "60000/60000 [==============================] - 0s 7us/sample - loss: 0.1086 - accuracy: 0.9664\n",
      "Epoch 15/15\n",
      "60000/60000 [==============================] - 0s 7us/sample - loss: 0.1077 - accuracy: 0.9664\n",
      "Train on 60000 samples\n",
      "Epoch 1/15\n",
      "60000/60000 [==============================] - 0s 8us/sample - loss: 0.0937 - accuracy: 0.9720\n",
      "Epoch 2/15\n",
      "60000/60000 [==============================] - 0s 5us/sample - loss: 0.0919 - accuracy: 0.9728\n",
      "Epoch 3/15\n",
      "60000/60000 [==============================] - 0s 5us/sample - loss: 0.0907 - accuracy: 0.9728\n",
      "Epoch 4/15\n",
      "60000/60000 [==============================] - 0s 5us/sample - loss: 0.0904 - accuracy: 0.9732\n",
      "Epoch 5/15\n",
      "60000/60000 [==============================] - 0s 5us/sample - loss: 0.0901 - accuracy: 0.9728\n",
      "Epoch 6/15\n",
      "60000/60000 [==============================] - 0s 5us/sample - loss: 0.0896 - accuracy: 0.9742\n",
      "Epoch 7/15\n",
      "60000/60000 [==============================] - 0s 5us/sample - loss: 0.0898 - accuracy: 0.9735\n",
      "Epoch 8/15\n",
      "60000/60000 [==============================] - 0s 5us/sample - loss: 0.0892 - accuracy: 0.9739\n",
      "Epoch 9/15\n",
      "60000/60000 [==============================] - 0s 5us/sample - loss: 0.0888 - accuracy: 0.9735\n",
      "Epoch 10/15\n",
      "60000/60000 [==============================] - 0s 5us/sample - loss: 0.0888 - accuracy: 0.9737\n",
      "Epoch 11/15\n",
      "60000/60000 [==============================] - 0s 5us/sample - loss: 0.0879 - accuracy: 0.9736\n",
      "Epoch 12/15\n",
      "60000/60000 [==============================] - 0s 5us/sample - loss: 0.0882 - accuracy: 0.9736\n",
      "Epoch 13/15\n",
      "60000/60000 [==============================] - 0s 5us/sample - loss: 0.0873 - accuracy: 0.9738\n",
      "Epoch 14/15\n",
      "60000/60000 [==============================] - 0s 5us/sample - loss: 0.0871 - accuracy: 0.9739\n",
      "Epoch 15/15\n",
      "60000/60000 [==============================] - 0s 5us/sample - loss: 0.0868 - accuracy: 0.9745\n"
     ]
    }
   ],
   "source": [
    "history  = model.fit(trainX, trainY, epochs=15, batch_size=200)\n",
    "history1 = model.fit(trainX, trainY, epochs=15, batch_size=400)"
   ]
  },
  {
   "cell_type": "code",
   "execution_count": 16,
   "metadata": {},
   "outputs": [
    {
     "data": {
      "image/png": "[encoded data removed]",
      "text/plain": [
       "<Figure size 432x288 with 1 Axes>"
      ]
     },
     "metadata": {
      "needs_background": "light"
     },
     "output_type": "display_data"
    }
   ],
   "source": [
    "plt.plot(history.history[\"accuracy\"])\n",
    "plt.plot(history1.history[\"accuracy\"])\n",
    "plt.show()"
   ]
  },
  {
   "cell_type": "code",
   "execution_count": null,
   "metadata": {},
   "outputs": [],
   "source": [
    "test_loss, test_acc = model.evaluate(testX, testY)"
   ]
  },
  {
   "cell_type": "code",
   "execution_count": null,
   "metadata": {},
   "outputs": [],
   "source": []
  },
  {
   "cell_type": "code",
   "execution_count": null,
   "metadata": {},
   "outputs": [],
   "source": []
  },
  {
   "cell_type": "code",
   "execution_count": null,
   "metadata": {},
   "outputs": [],
   "source": []
  },
  {
   "cell_type": "code",
   "execution_count": null,
   "metadata": {},
   "outputs": [],
   "source": [
    "predY = model.predict(testX)\n",
    "wrng = []\n",
    "\n",
    "for i in range(len(testY)):\n",
    "    if np.argmax(predY[i]) != testY[i]:\n",
    "        wrng.append(i)"
   ]
  },
  {
   "cell_type": "code",
   "execution_count": null,
   "metadata": {},
   "outputs": [],
   "source": [
    "len(wrng)\n",
    "plt.imshow(testX[wrng[100]])"
   ]
  },
  {
   "cell_type": "code",
   "execution_count": null,
   "metadata": {},
   "outputs": [],
   "source": []
  },
  {
   "cell_type": "code",
   "execution_count": null,
   "metadata": {},
   "outputs": [],
   "source": [
    "for i in range(len(testX)):\n",
    "    if  testY[i] != np.argmax(predY[i]):\n",
    "        plt.imshow(testX[1], cmap=plt.cm.binary)"
   ]
  },
  {
   "cell_type": "markdown",
   "metadata": {},
   "source": [
    "## Importing Custom Images"
   ]
  },
  {
   "cell_type": "code",
   "execution_count": null,
   "metadata": {},
   "outputs": [],
   "source": [
    "img = cv2.imread('imgs/01.png',0)\n",
    "img = cv2.resize(img, dsize=(28,28))\n",
    "# img = np.resize(img, (28,28))\n",
    "# img_ar = 1-np.array(img)\n",
    "img = img.reshape(1, 28, 28)\n",
    "# len(img[0][0])\n",
    "img = 1-img/255\n",
    "plt.imshow(img[0], cmap=plt.cm.binary)"
   ]
  },
  {
   "cell_type": "code",
   "execution_count": null,
   "metadata": {},
   "outputs": [],
   "source": [
    "#img_ar = img_ar/255\n",
    "t = np.append(testX, img, axis=0)\n",
    "plt.imshow(t[-1], cmap=plt.cm.binary)"
   ]
  },
  {
   "cell_type": "code",
   "execution_count": null,
   "metadata": {},
   "outputs": [],
   "source": [
    "predY = model.predict(t)\n",
    "np.argmax(predY[-1])"
   ]
  },
  {
   "cell_type": "code",
   "execution_count": null,
   "metadata": {},
   "outputs": [],
   "source": [
    "plt.imshow(t[-1], cmap=plt.cm.binary)"
   ]
  },
  {
   "cell_type": "code",
   "execution_count": null,
   "metadata": {},
   "outputs": [],
   "source": []
  }
 ],
 "metadata": {
  "kernelspec": {
   "display_name": "Python 3",
   "language": "python",
   "name": "python3"
  },
  "language_info": {
   "codemirror_mode": {
    "name": "ipython",
    "version": 3
   },
   "file_extension": ".py",
   "mimetype": "text/x-python",
   "name": "python",
   "nbconvert_exporter": "python",
   "pygments_lexer": "ipython3",
   "version": "3.7.9"
  }
 },
 "nbformat": 4,
 "nbformat_minor": 2
}
