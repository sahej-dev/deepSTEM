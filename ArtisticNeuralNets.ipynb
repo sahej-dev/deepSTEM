{
 "metadata": {
  "language_info": {
   "codemirror_mode": {
    "name": "ipython",
    "version": 3
   },
   "file_extension": ".py",
   "mimetype": "text/x-python",
   "name": "python",
   "nbconvert_exporter": "python",
   "pygments_lexer": "ipython3",
   "version": "3.7.9-final"
  },
  "orig_nbformat": 2,
  "kernelspec": {
   "name": "python3",
   "display_name": "Python 3"
  }
 },
 "nbformat": 4,
 "nbformat_minor": 2,
 "cells": [
  {
   "cell_type": "code",
   "execution_count": null,
   "metadata": {},
   "outputs": [],
   "source": [
    "import tensorflow as tf\n",
    "import numpy as np\n",
    "import matplotlib.pyplot as plt\n",
    "import cv2\n",
    "import IPython.display as display\n",
    "import PIL.Image\n",
    "\n",
    "physical_devices = tf.config.experimental.list_physical_devices('GPU')\n",
    "tf.config.experimental.set_memory_growth(physical_devices[0], True)\n",
    "\n",
    "RGB_MEAN = [103.939/255, 116.779/255, 123.68/255]\n",
    "\n",
    "def show_img(*imgs):\n",
    "    for img in imgs:\n",
    "        if img.shape[0] == 1:\n",
    "            img = tf.squeeze(img, axis=0)\n",
    "        cv2.imshow('Image Window', img)\n",
    "        cv2.waitKey(0)\n",
    "    cv2.destroyAllWindows()\n",
    "\n",
    "def rand_img(shape):\n",
    "    img = np.zeros(shape, dtype=np.float32)\n",
    "    cv2.randn(img, 128, 20)\n",
    "    return img\n",
    "\n",
    "def imshape(img):\n",
    "    return np.reshape(img, (1, img.shape[0], img.shape[1], img.shape[2]))\n",
    "\n",
    "def unshape(img):\n",
    "    if img.shape[0] == 1:\n",
    "        img = np.squeeze(img, axis=0)\n",
    "    return img\n",
    "\n",
    "\n",
    "def load_img(path_to_img):\n",
    "  max_dim = 512\n",
    "  img = tf.io.read_file(path_to_img)\n",
    "  img = tf.image.decode_image(img, channels=3)\n",
    "  img = tf.image.convert_image_dtype(img, tf.float32)\n",
    "\n",
    "  shape = tf.cast(tf.shape(img)[:-1], tf.float32)\n",
    "  long_dim = max(shape)\n",
    "  scale = max_dim / long_dim\n",
    "\n",
    "  new_shape = tf.cast(shape * scale, tf.int32)\n",
    "\n",
    "  img = tf.image.resize(img, new_shape)\n",
    "  img = img[tf.newaxis, :]\n",
    "  return img"
   ]
  },
  {
   "cell_type": "code",
   "execution_count": null,
   "metadata": {},
   "outputs": [],
   "source": [
    "# Importing Images\n",
    "\n",
    "# painting = load_img('Art/paintings/the_weeping_woman.png')\n",
    "# painting = load_img('Art/paintings/the_starry_night.jpg')\n",
    "painting = load_img('Art/paintings/the_great_wave_off_kanagawa.jpg')\n",
    "# painting = load_img('Art/paintings/the_storm_on_the_sea_of_galilee.png')\n",
    "# painting = load_img('Art/paintings/wanderer_above_the_sea_of_fog.jpg')\n",
    "# painting = load_img(tf.keras.utils.get_file('kandinsky5.jpg','https://storage.googleapis.com/download.tensorflow.org/example_images/Vassily_Kandinsky%2C_1913_-_Composition_7.jpg'))\n",
    "\n",
    "# image = load_img('Art/images/greece.jpg')\n",
    "# image = load_img('Art/images/earth.jpg')\n",
    "# image = load_img('Art/images/uni.jpeg')\n",
    "image = load_img('Art/images/taj.jpg')\n",
    "\n",
    "def imshow(image, title=None):\n",
    "  if len(image.shape) > 3:\n",
    "    image = tf.squeeze(image, axis=0)\n",
    "\n",
    "  plt.imshow(image)\n",
    "  if title:\n",
    "    plt.title(title)\n",
    "    \n",
    "\n",
    "imshow(painting)\n",
    "# show_img(painting, image)"
   ]
  },
  {
   "cell_type": "code",
   "execution_count": null,
   "metadata": {},
   "outputs": [],
   "source": [
    "# Importing the Oxford VGG model\n",
    "vgg = tf.keras.applications.VGG16(include_top=False, weights='imagenet')\n",
    "vgg.summary()"
   ]
  },
  {
   "cell_type": "code",
   "execution_count": null,
   "metadata": {},
   "outputs": [],
   "source": [
    "# ppd_image = image.astype('float32')\n",
    "# ppd_image = tf.keras.applications.vgg16.preprocess_input(image)\n",
    "ppd_image = image - RGB_MEAN\n",
    "\n",
    "# ppd_painting = painting.astype('float32')\n",
    "# ppd_painting = tf.keras.applications.vgg16.preprocess_input(painting)\n",
    "ppd_painting = painting - RGB_MEAN\n",
    "\n",
    "# show_img(image, painting, ppd_image, ppd_painting)\n",
    "np.max(painting)"
   ]
  },
  {
   "cell_type": "code",
   "execution_count": null,
   "metadata": {},
   "outputs": [],
   "source": [
    "vgg.trainable = False\n",
    "\n",
    "# Selecting the layers used in the paper\n",
    "content_layers = ['block5_conv2']\n",
    "style_layers = ['block1_conv1', 'block2_conv1', 'block3_conv1', 'block4_conv1', 'block5_conv1']\n",
    "\n",
    "# Making the model\n",
    "model_layers = [vgg.get_layer(layer_name).output for layer_name in style_layers]\n",
    "model_layers.append(vgg.get_layer(content_layers[0]).output)\n",
    "\n",
    "model = tf.keras.Model([vgg.input], model_layers)\n",
    "model.trainable = False"
   ]
  },
  {
   "cell_type": "code",
   "execution_count": null,
   "metadata": {},
   "outputs": [],
   "source": [
    "def gram_matrix(feature_map):\n",
    "    return tf.linalg.einsum('bijc,bijd->bcd', feature_map, feature_map)\n",
    "\n",
    "def get_style_content(outputs):\n",
    "    return ([gram_matrix(output) for output in outputs[:-1]],\n",
    "            outputs[-1:])"
   ]
  },
  {
   "cell_type": "code",
   "execution_count": null,
   "metadata": {},
   "outputs": [],
   "source": [
    "image_outputs = model(ppd_image)\n",
    "_ , target_content = get_style_content(image_outputs)\n",
    "# add ppd\n",
    "painting_outputs = model(ppd_painting)\n",
    "target_style, _ = get_style_content(painting_outputs)"
   ]
  },
  {
   "cell_type": "code",
   "execution_count": null,
   "metadata": {},
   "outputs": [],
   "source": [
    "style_weight=1e-2\n",
    "content_weight=1e8 + 2.5e7\n",
    "opt = tf.optimizers.Adam(learning_rate=0.02)\n",
    "\n",
    "def total_loss(out):\n",
    "    final_style, final_content = get_style_content(out)\n",
    "    # print(\"Target Style: \", target_style)\n",
    "    # print(\"\\n\\n___________________\\n\\n\")\n",
    "    # print(\"Target Content: \", target_content)\n",
    "    style_loss = tf.add_n([tf.reduce_mean((fs  - ts)**2)\n",
    "                    for fs, ts in zip(final_style, target_style)])\n",
    "\n",
    "    content_loss = tf.add_n([tf.reduce_mean((fc - tc)**2)\n",
    "                    for fc, tc in zip(final_content, target_content)])\n",
    "\n",
    "    loss = (content_weight*content_loss) + (style_weight*style_loss)\n",
    "    return loss"
   ]
  },
  {
   "cell_type": "code",
   "execution_count": null,
   "metadata": {},
   "outputs": [],
   "source": [
    "@tf.function()\n",
    "def train_step(image):\n",
    "    with tf.GradientTape() as tape:\n",
    "        final_out = model(image)\n",
    "        loss = total_loss(final_out)\n",
    "\n",
    "    grad = tape.gradient(loss, image)\n",
    "    opt.apply_gradients([(grad, image)])\n",
    "    image.assign(tf.clip_by_value(image, clip_value_min=0.0, clip_value_max=1.0))\n",
    "    # image.assign(image)"
   ]
  },
  {
   "cell_type": "code",
   "execution_count": null,
   "metadata": {},
   "outputs": [],
   "source": [
    "def tensor_to_image(tensor):\n",
    "  tensor = tensor*255\n",
    "  tensor = np.array(tensor, dtype=np.uint8)\n",
    "  if np.ndim(tensor)>3:\n",
    "    assert tensor.shape[0] == 1\n",
    "    tensor = tensor[0]\n",
    "  return PIL.Image.fromarray(tensor)"
   ]
  },
  {
   "cell_type": "code",
   "execution_count": null,
   "metadata": {},
   "outputs": [],
   "source": [
    "im = tf.Variable(image)\n",
    "train_step(im)\n",
    "\n",
    "tensor_to_image(im)"
   ]
  },
  {
   "cell_type": "code",
   "execution_count": null,
   "metadata": {},
   "outputs": [],
   "source": [
    "im = tf.Variable(image)\n",
    "\n",
    "import time\n",
    "start = time.time()\n",
    "\n",
    "epochs = 1\n",
    "steps_per_epoch = 100\n",
    "\n",
    "step = 0\n",
    "for n in range(epochs):\n",
    "  for m in range(steps_per_epoch):\n",
    "    step += 1\n",
    "    train_step(im)\n",
    "    print(\".\", end='')\n",
    "  display.clear_output(wait=True)\n",
    "  display.display(tensor_to_image(im))\n",
    "  print(\"Train step: {}\".format(step))\n",
    "\n",
    "end = time.time()\n",
    "print(\"Total time: {:.1f}\".format(end-start))"
   ]
  },
  {
   "cell_type": "code",
   "execution_count": null,
   "metadata": {},
   "outputs": [],
   "source": []
  }
 ]
}